{
 "cells": [
  {
   "cell_type": "code",
   "execution_count": 1,
   "metadata": {},
   "outputs": [
    {
     "ename": "IndexError",
     "evalue": "list index out of range",
     "output_type": "error",
     "traceback": [
      "\u001b[1;31m---------------------------------------------------------------------------\u001b[0m",
      "\u001b[1;31mIndexError\u001b[0m                                Traceback (most recent call last)",
      "\u001b[1;32md:\\06. vsCode\\Learn Python\\Lesson 14\\minigame.ipynb Cell 1'\u001b[0m in \u001b[0;36m<cell line: 13>\u001b[1;34m()\u001b[0m\n\u001b[0;32m     <a href='vscode-notebook-cell:/d%3A/06.%20vsCode/Learn%20Python/Lesson%2014/minigame.ipynb#ch0000000?line=14'>15</a>\u001b[0m \u001b[39mif\u001b[39;00m choice\u001b[39m.\u001b[39mlower() \u001b[39m==\u001b[39m \u001b[39m'\u001b[39m\u001b[39my\u001b[39m\u001b[39m'\u001b[39m:\n\u001b[0;32m     <a href='vscode-notebook-cell:/d%3A/06.%20vsCode/Learn%20Python/Lesson%2014/minigame.ipynb#ch0000000?line=15'>16</a>\u001b[0m     index \u001b[39m=\u001b[39m random\u001b[39m.\u001b[39mrandint(\u001b[39m1\u001b[39m, \u001b[39mlen\u001b[39m(e_words))\n\u001b[1;32m---> <a href='vscode-notebook-cell:/d%3A/06.%20vsCode/Learn%20Python/Lesson%2014/minigame.ipynb#ch0000000?line=16'>17</a>\u001b[0m     \u001b[39mprint\u001b[39m (\u001b[39mf\u001b[39m\u001b[39m'\u001b[39m\u001b[39mNghĩa tiếng việt của từ \u001b[39m\u001b[39m{\u001b[39;00me_words[index]\u001b[39m}\u001b[39;00m\u001b[39m là: \u001b[39m\u001b[39m'\u001b[39m, end \u001b[39m=\u001b[39m \u001b[39m'\u001b[39m\u001b[39m'\u001b[39m)\n\u001b[0;32m     <a href='vscode-notebook-cell:/d%3A/06.%20vsCode/Learn%20Python/Lesson%2014/minigame.ipynb#ch0000000?line=17'>18</a>\u001b[0m     ans \u001b[39m=\u001b[39m \u001b[39minput\u001b[39m()\n\u001b[0;32m     <a href='vscode-notebook-cell:/d%3A/06.%20vsCode/Learn%20Python/Lesson%2014/minigame.ipynb#ch0000000?line=18'>19</a>\u001b[0m     \u001b[39mif\u001b[39;00m ans\u001b[39m.\u001b[39mlower() \u001b[39min\u001b[39;00m vn_words[index]:\n",
      "\u001b[1;31mIndexError\u001b[0m: list index out of range"
     ]
    }
   ],
   "source": [
    "import random\n",
    "\n",
    "english = {'Cat':['con mèo', 'mèo'], 'Hello':['xin chào','chào'], 'Bye':['tạm biệt'], 'Dog':['con chó', 'chó'], 'Sum': ['mặt trời'],\n",
    "            'Sorry':['xin lỗi'], 'Apple':['quả táo']}\n",
    "\n",
    "e_words = []\n",
    "vn_words = []\n",
    "\n",
    "for key, value in english.items():\n",
    "    e_words.append(key)\n",
    "    vn_words.append(value)\n",
    "\n",
    "while (True):\n",
    "    choice = input('Continue? (Y/N): ')\n",
    "    if choice.lower() == 'y':\n",
    "        index = random.randint(0, len(e_words)-1)\n",
    "        print (f'Nghĩa tiếng việt của từ {e_words[index]} là: ', end = '')\n",
    "        ans = input()\n",
    "        if ans.lower() in vn_words[index]:\n",
    "            print ('Đáp án đúng')\n",
    "        else:\n",
    "            print ('Đáp án sai')\n",
    "        continue\n",
    "    else:\n",
    "        break"
   ]
  }
 ],
 "metadata": {
  "interpreter": {
   "hash": "41cedb187d78d81e20b9634a9e1e717e0ac926d1a4a4ecd20da710c9472f453b"
  },
  "kernelspec": {
   "display_name": "Python 3.10.2 64-bit",
   "language": "python",
   "name": "python3"
  },
  "language_info": {
   "codemirror_mode": {
    "name": "ipython",
    "version": 3
   },
   "file_extension": ".py",
   "mimetype": "text/x-python",
   "name": "python",
   "nbconvert_exporter": "python",
   "pygments_lexer": "ipython3",
   "version": "3.10.2"
  },
  "orig_nbformat": 4
 },
 "nbformat": 4,
 "nbformat_minor": 2
}
